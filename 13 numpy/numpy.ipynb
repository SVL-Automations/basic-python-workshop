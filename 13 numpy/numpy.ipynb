{
 "cells": [
  {
   "cell_type": "code",
   "execution_count": 1,
   "metadata": {},
   "outputs": [
    {
     "name": "stdout",
     "output_type": "stream",
     "text": [
      "Array with Rank 1: \n",
      " [1 2 3]\n",
      "<class 'numpy.ndarray'>\n",
      "Array with Rank 2: \n",
      " [[1 2 3]\n",
      " [4 5 6]]\n",
      "\n",
      "Array created using passed tuple:\n",
      " [1 3 2]\n"
     ]
    }
   ],
   "source": [
    "#Creating a Numpy Array \n",
    "#Python program for Creation of Arrays\n",
    "import numpy as np\n",
    " \n",
    "# Creating a rank 1 Array\n",
    "arr = np.array([1, 2, 3])\n",
    "print(\"Array with Rank 1: \\n\",arr)\n",
    "print(type(arr))\n",
    " \n",
    "# Creating a rank 2 Array\n",
    "arr = np.array([[1, 2, 3],\n",
    "                [4, 5, 6]])\n",
    "print(\"Array with Rank 2: \\n\", arr)\n",
    " \n",
    "# Creating an array from tuple\n",
    "arr = np.array((1, 3, 2))\n",
    "print(\"\\nArray created using \"\n",
    "      \"passed tuple:\\n\", arr)"
   ]
  },
  {
   "cell_type": "code",
   "execution_count": 26,
   "metadata": {},
   "outputs": [
    {
     "name": "stdout",
     "output_type": "stream",
     "text": [
      "Initial Array: \n",
      "[[-1.   2.   0.   4. ]\n",
      " [ 4.  -0.5  6.   0. ]\n",
      " [ 2.6  0.   7.   8. ]\n",
      " [ 3.  -7.   4.   2. ]]\n",
      "Array with first 2 rows and alternate columns(0 and 2):\n",
      " [[-1.   0. ]\n",
      " [ 2.6  7. ]]\n",
      "\n",
      "Elements at indices (1, 3), (1, 2), (0, 1), (3, 0):\n",
      " [0. 6. 2. 3.]\n"
     ]
    }
   ],
   "source": [
    "#Accessing the array Index\n",
    "# Python program to demonstrate\n",
    "# indexing in numpy array\n",
    "import numpy as np\n",
    " \n",
    "# Initial Array\n",
    "arr = np.array([[-1, 2, 0, 4],\n",
    "                [4, -0.5, 6, 0],\n",
    "                [2.6, 0, 7, 8],\n",
    "                [3, -7, 4, 2.0]])\n",
    "print(\"Initial Array: \")\n",
    "print(arr)\n",
    " \n",
    "# Printing a range of Array\n",
    "# with the use of slicing method\n",
    "sliced_arr = arr[::2, ::2]\n",
    "print (\"Array with first 2 rows and\"\n",
    "    \" alternate columns(0 and 2):\\n\", sliced_arr)\n",
    " \n",
    "# Printing elements at\n",
    "# specific Indices\n",
    "Index_arr = arr[[1, 1, 0, 3], \n",
    "                [3, 2, 1, 0]]\n",
    "print (\"\\nElements at indices (1, 3), \"\n",
    "    \"(1, 2), (0, 1), (3, 0):\\n\", Index_arr)"
   ]
  },
  {
   "cell_type": "code",
   "execution_count": 38,
   "metadata": {},
   "outputs": [
    {
     "name": "stdout",
     "output_type": "stream",
     "text": [
      "Integer Datatype: \n",
      "int32\n",
      "\n",
      "Float Datatype: \n",
      "float64\n",
      "\n",
      "Forcing a Datatype: \n",
      "int64\n"
     ]
    }
   ],
   "source": [
    "#Constructing a Datatype Object\n",
    "# Python Program to create a data type object\n",
    "import numpy as np\n",
    " \n",
    "# Integer datatype\n",
    "# guessed by Numpy\n",
    "x = np.array([1, 2])  \n",
    "print(\"Integer Datatype: \")\n",
    "print(x.dtype)         \n",
    " \n",
    "# Float datatype\n",
    "# guessed by Numpy\n",
    "x = np.array([1.0, 2.0]) \n",
    "print(\"\\nFloat Datatype: \")\n",
    "print(x.dtype)  \n",
    " \n",
    "# Forced Datatype\n",
    "x = np.array([1, 2], dtype = np.int64)   \n",
    "print(\"\\nForcing a Datatype: \")\n",
    "print(x.dtype)"
   ]
  },
  {
   "cell_type": "code",
   "execution_count": null,
   "metadata": {},
   "outputs": [],
   "source": []
  },
  {
   "cell_type": "code",
   "execution_count": 49,
   "metadata": {},
   "outputs": [
    {
     "name": "stdout",
     "output_type": "stream",
     "text": [
      "Matrix b : \n",
      " [1 1]\n",
      "\n",
      "Matrix a : \n",
      " [[1 1]\n",
      " [1 1]]\n",
      "\n",
      "Matrix c : \n",
      " [[1. 1. 1.]\n",
      " [1. 1. 1.]\n",
      " [1. 1. 1.]]\n"
     ]
    }
   ],
   "source": [
    "\n",
    "\n",
    "# Python Program illustrating \n",
    "# numpy.ones method \n",
    "  \n",
    "import numpy as np \n",
    "  \n",
    "b = np.ones(2, dtype = int) \n",
    "print(\"Matrix b : \\n\", b) \n",
    "  \n",
    "a = np.ones([2, 2], dtype = int) \n",
    "print(\"\\nMatrix a : \\n\", a) \n",
    "  \n",
    "c = np.ones([3, 3]) \n",
    "print(\"\\nMatrix c : \\n\", c) \n"
   ]
  },
  {
   "cell_type": "code",
   "execution_count": 88,
   "metadata": {},
   "outputs": [
    {
     "name": "stdout",
     "output_type": "stream",
     "text": [
      "Addition of Two Arrays: \n",
      "[[ 7. 13.]\n",
      " [ 4. 14.]]\n",
      "\n",
      "Addition of Array elements: \n",
      "19.0\n",
      "The column wise summation of all matrix  is : \n",
      "[ 6. 13.]\n",
      "The row wise summation of all matrix  is : \n",
      "[11.  8.]\n",
      "\n",
      "Square root of Array1 elements: \n",
      "[[2.         2.64575131]\n",
      " [1.41421356 2.44948974]]\n",
      "\n",
      "Transpose of Array: \n",
      "[[4. 2.]\n",
      " [7. 6.]]\n",
      "The element wise multiplication of matrix is : \n",
      "[[12. 42.]\n",
      " [ 4. 48.]]\n",
      "The product of matrices is : \n",
      "[[26. 80.]\n",
      " [18. 60.]]\n"
     ]
    }
   ],
   "source": [
    "#Math Operations on DataType array\n",
    "import numpy as np\n",
    " \n",
    "# First Array\n",
    "arr1 = np.array([[4, 7], [2, 6]], \n",
    "                 dtype = np.float64)\n",
    "                  \n",
    "# Second Array\n",
    "arr2 = np.array([[3, 6], [2, 8]], \n",
    "                 dtype = np.float64) \n",
    " \n",
    "# Addition of two Arrays\n",
    "Sum = np.add(arr1, arr2)\n",
    "print(\"Addition of Two Arrays: \")\n",
    "print(Sum)\n",
    " \n",
    "# Addition of all Array elements\n",
    "# using predefined sum method\n",
    "Sum1 = np.sum(arr1)\n",
    "print(\"\\nAddition of Array elements: \")\n",
    "print(Sum1)\n",
    " \n",
    " # using sum(axis=0) to print summation of all columns of matrix \n",
    "print (\"The column wise summation of all matrix  is : \") \n",
    "print (np.sum(arr1,axis=0)) \n",
    "  \n",
    "# using sum(axis=1) to print summation of all columns of matrix \n",
    "print (\"The row wise summation of all matrix  is : \") \n",
    "print (np.sum(arr1,axis=1)) \n",
    "\n",
    "# Square root of Array\n",
    "Sqrt = np.sqrt(arr1)\n",
    "print(\"\\nSquare root of Array1 elements: \")\n",
    "print(Sqrt)\n",
    " \n",
    "# Transpose of Array\n",
    "# using In-built function 'T'\n",
    "Trans_arr = arr1.T\n",
    "print(\"\\nTranspose of Array: \")\n",
    "print(Trans_arr)\n",
    "\n",
    "# using multiply() to multiply matrices element wise \n",
    "print (\"The element wise multiplication of matrix is : \") \n",
    "print (np.multiply(arr1,arr2)) \n",
    "  \n",
    "# using dot() to multiply matrices \n",
    "print (\"The product of matrices is : \") \n",
    "print (np.dot(arr1,arr2)) \n",
    "\n"
   ]
  },
  {
   "cell_type": "code",
   "execution_count": 97,
   "metadata": {},
   "outputs": [
    {
     "name": "stdout",
     "output_type": "stream",
     "text": [
      "Sorted array \n",
      " [2. 4. 6. 7.]\n",
      "Sort row wise \n",
      "  [[4. 7.]\n",
      " [2. 6.]]\n",
      "Sort by mergesort \n",
      " [[2. 6.]\n",
      " [4. 7.]]\n"
     ]
    }
   ],
   "source": [
    "#sort array\n",
    "\n",
    "print(\"Sorted array \\n\",np.sort(arr1,axis=None))\n",
    "\n",
    "#sort array row wise\n",
    "\n",
    "print(\"Sort row wise \\n \",np.sort(arr1,axis=1))\n",
    "\n",
    "#sort array by specific type\n",
    "\n",
    "print(\"Sort by mergesort \\n\",np.sort(arr1,axis=0,kind='heapsort'))"
   ]
  },
  {
   "cell_type": "code",
   "execution_count": 98,
   "metadata": {},
   "outputs": [
    {
     "name": "stdout",
     "output_type": "stream",
     "text": [
      "Matrix b : \n",
      " [         0 1075576832]\n",
      "\n",
      "Matrix a : \n",
      " [[         0 1075314688]\n",
      " [         0 1075576832]]\n",
      "\n",
      "Matrix c : \n",
      " [[0.22039774 0.42995636 0.6183698 ]\n",
      " [0.77637192 0.8961922  0.9719379 ]\n",
      " [0.99988386 0.9786557  0.90929743]]\n"
     ]
    }
   ],
   "source": [
    "#Array creation using numpy methods\n",
    "#numpy.empty(shape, dtype = float, order = ‘C’) : \n",
    "#Return a new array of given shape and type, with random values.\n",
    "import numpy as np\n",
    " \n",
    "b = np.empty(2, dtype = int)\n",
    "print(\"Matrix b : \\n\", b)\n",
    " \n",
    "a = np.empty([2, 2], dtype = int)\n",
    "print(\"\\nMatrix a : \\n\", a)\n",
    " \n",
    "c = np.empty([3, 3])\n",
    "print(\"\\nMatrix c : \\n\", c)"
   ]
  },
  {
   "cell_type": "code",
   "execution_count": 99,
   "metadata": {},
   "outputs": [
    {
     "name": "stdout",
     "output_type": "stream",
     "text": [
      "Matrix b : \n",
      " [0 0]\n",
      "\n",
      "Matrix a : \n",
      " [[0 0]\n",
      " [0 0]]\n",
      "\n",
      "Matrix c : \n",
      " [[0. 0. 0.]\n",
      " [0. 0. 0.]\n",
      " [0. 0. 0.]]\n"
     ]
    }
   ],
   "source": [
    "#numpy.zeros(shape, dtype = None, order = ‘C’) : Return a new array of given shape and type, with zeros.\n",
    "import numpy as np\n",
    " \n",
    "b = np.zeros(2, dtype = int)\n",
    "print(\"Matrix b : \\n\", b)\n",
    " \n",
    "a = np.zeros([2, 2], dtype = int)\n",
    "print(\"\\nMatrix a : \\n\", a)\n",
    " \n",
    "c = np.zeros([3, 3])\n",
    "print(\"\\nMatrix c : \\n\", c)"
   ]
  },
  {
   "cell_type": "code",
   "execution_count": 105,
   "metadata": {},
   "outputs": [
    {
     "name": "stdout",
     "output_type": "stream",
     "text": [
      "Original array : \n",
      " [0 1 2 3 4 5 6 7]\n",
      "\n",
      "array reshaped with 2 rows and 4 columns : \n",
      " [[0 1 2 3]\n",
      " [4 5 6 7]]\n",
      "\n",
      "array reshaped with 2 rows and 4 columns : \n",
      " [[0 1]\n",
      " [2 3]\n",
      " [4 5]\n",
      " [6 7]]\n",
      "\n",
      "Original array reshaped to 3D : \n",
      " [[[0 1]\n",
      "  [2 3]]\n",
      "\n",
      " [[4 5]\n",
      "  [6 7]]]\n"
     ]
    }
   ],
   "source": [
    "#numpy.reshape(array, shape, order = ‘C’) : \n",
    "#Shapes an array without changing data of array.\n",
    " \n",
    "import numpy as np\n",
    " \n",
    "array = np.arange(8)\n",
    "print(\"Original array : \\n\", array)\n",
    " \n",
    "# shape array with 2 rows and 4 columns\n",
    "array = np.arange(8).reshape(2, 4)\n",
    "print(\"\\narray reshaped with 2 rows and 4 columns : \\n\", array)\n",
    " \n",
    "# shape array with 2 rows and 4 columns\n",
    "array = np.arange(8).reshape(4 ,2)\n",
    "print(\"\\narray reshaped with 2 rows and 4 columns : \\n\", array)\n",
    " \n",
    "# Constructs 3D array\n",
    "array = np.arange(8).reshape(2, 2, 2)\n",
    "print(\"\\nOriginal array reshaped to 3D : \\n\", array)"
   ]
  },
  {
   "cell_type": "code",
   "execution_count": 106,
   "metadata": {},
   "outputs": [
    {
     "name": "stdout",
     "output_type": "stream",
     "text": [
      "A\n",
      " [[0 1]\n",
      " [2 3]] \n",
      "\n",
      "A\n",
      " [4 5 6 7 8 9] \n",
      "\n",
      "A\n",
      " [ 4  7 10 13 16 19] \n",
      "\n"
     ]
    }
   ],
   "source": [
    "#arange([start,] stop[, step,][, dtype]) : \n",
    "#Returns an array with evenly spaced elements as per the interval. \n",
    "#The interval mentioned is half opened i.e. [Start, Stop)\n",
    "\n",
    "import numpy as np\n",
    " \n",
    "print(\"A\\n\", np.arange(4).reshape(2, 2), \"\\n\")\n",
    " \n",
    "print(\"A\\n\", np.arange(4, 10), \"\\n\")\n",
    " \n",
    "print(\"A\\n\", np.arange(4, 20, 3), \"\\n\")"
   ]
  },
  {
   "cell_type": "code",
   "execution_count": 110,
   "metadata": {},
   "outputs": [
    {
     "name": "stdout",
     "output_type": "stream",
     "text": [
      "B\n",
      " (array([2.  , 2.25, 2.5 , 2.75, 3.  ]), 0.25) \n",
      "\n",
      "[0.         0.22222222 0.44444444 0.66666667 0.88888889 1.11111111\n",
      " 1.33333333 1.55555556 1.77777778 2.        ]\n",
      "A\n",
      " [0.         0.22039774 0.42995636 0.6183698  0.77637192 0.8961922\n",
      " 0.9719379  0.99988386 0.9786557  0.90929743]\n"
     ]
    }
   ],
   "source": [
    "#numpy.linspace(start, stop, num = 50, endpoint = True,\n",
    "# retstep = False, dtype = None) :\n",
    "# Returns number spaces evenly w.r.t interval.\n",
    "# Similiar to arange but instead of step it uses sample number.\n",
    "import numpy as np\n",
    " \n",
    "# restep set to True\n",
    "print(\"B\\n\", np.linspace(2.0, 3.0, num=5, retstep=True), \"\\n\")\n",
    " \n",
    "# To evaluate sin() in long range \n",
    "x = np.linspace(0, 2, 10)\n",
    "print(x)\n",
    "print(\"A\\n\", np.sin(x))"
   ]
  },
  {
   "cell_type": "code",
   "execution_count": 113,
   "metadata": {},
   "outputs": [
    {
     "name": "stdout",
     "output_type": "stream",
     "text": [
      "[[1 2]\n",
      " [3 4]]\n",
      "[1 2 3 4]\n"
     ]
    }
   ],
   "source": [
    "#numpy.ndarray.flatten(order = ‘C’) : \n",
    "#Return a copy of the array collapsed into one dimension.\n",
    "\n",
    "import numpy as np\n",
    " \n",
    "array = np.array([[1, 2], [3, 4]])\n",
    "print(array)\n",
    " \n",
    "# using flatten method\n",
    "print(array.flatten())\n"
   ]
  },
  {
   "cell_type": "code",
   "execution_count": 114,
   "metadata": {},
   "outputs": [
    {
     "name": "stdout",
     "output_type": "stream",
     "text": [
      "Adding 1 to array [2 3 6 4]\n",
      "subtracting 3 from array [-2 -1  2  0]\n",
      "Multiplying by 10 [10 20 50 30]\n",
      "Multiplying by 10 [ 1  4 25  9]\n"
     ]
    }
   ],
   "source": [
    "import numpy as np\n",
    "\n",
    "a=np.array([1,2,5,3])\n",
    "\n",
    "print(\"Adding 1 to array\", a+1)\n",
    "\n",
    "print(\"subtracting 3 from array\", a-3)\n",
    "\n",
    "print(\"Multiplying by 10\", a*10)\n",
    "\n",
    "print(\"Multiplying by 10\", a**2)"
   ]
  },
  {
   "cell_type": "code",
   "execution_count": null,
   "metadata": {},
   "outputs": [],
   "source": []
  }
 ],
 "metadata": {
  "kernelspec": {
   "display_name": "Python 3",
   "language": "python",
   "name": "python3"
  },
  "language_info": {
   "codemirror_mode": {
    "name": "ipython",
    "version": 3
   },
   "file_extension": ".py",
   "mimetype": "text/x-python",
   "name": "python",
   "nbconvert_exporter": "python",
   "pygments_lexer": "ipython3",
   "version": "3.10.4"
  }
 },
 "nbformat": 4,
 "nbformat_minor": 2
}
